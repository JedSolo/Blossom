{
 "cells": [
  {
   "cell_type": "code",
   "execution_count": 1,
   "id": "308bf4eb",
   "metadata": {},
   "outputs": [
    {
     "name": "stdout",
     "output_type": "stream",
     "text": [
      "innocence\n"
     ]
    }
   ],
   "source": [
    "# Importing from linkedlist\n",
    "from linked_list import Node, LinkedList\n",
    "\n",
    "class HashMap:\n",
    "  def __init__(self, size):\n",
    "    self.array_size = size\n",
    "    self.array = [LinkedList() for i in range(size)]\n",
    "\n",
    "  def hash(self, key):\n",
    "    return sum(key.encode())\n",
    "\n",
    "  def compress(self, hash_code):\n",
    "    return hash_code % self.array_size\n",
    "\n",
    "  def assign(self, key, value):\n",
    "    array_index = self.compress(self.hash(key))\n",
    "    payload = Node([key, value])\n",
    "    list_at_array = self.array[array_index]\n",
    "    for item in list_at_array:\n",
    "      if item[0] == key:\n",
    "        item[1] = value\n",
    "        return\n",
    "    list_at_array.insert(payload)\n",
    "\n",
    "  def retrieve(self, key):\n",
    "    array_index = self.compress(self.hash(key))\n",
    "    list_at_index = self.array[array_index]\n",
    "    for item in list_at_index:\n",
    "      if key == item[0]:\n",
    "        return item[1]\n",
    "    return None\n",
    "\n",
    "# Adding the Flower Definitions:\n",
    "from blossom_lib import flower_definitions \n",
    "\n",
    "# Creating an instance of our HashMap:\n",
    "blossom = HashMap(len(flower_definitions))\n",
    "\n",
    "# Assign elements in the follower definitions to our hash map:\n",
    "for element in flower_definitions:\n",
    "  blossom.assign(element[0], element[1])\n",
    "\n",
    "# Retrieving element from our hashmap:\n",
    "print(blossom.retrieve('daisy'))\n"
   ]
  },
  {
   "cell_type": "code",
   "execution_count": null,
   "id": "0db26bc3",
   "metadata": {},
   "outputs": [],
   "source": []
  }
 ],
 "metadata": {
  "kernelspec": {
   "display_name": "Python 3",
   "language": "python",
   "name": "python3"
  },
  "language_info": {
   "codemirror_mode": {
    "name": "ipython",
    "version": 3
   },
   "file_extension": ".py",
   "mimetype": "text/x-python",
   "name": "python",
   "nbconvert_exporter": "python",
   "pygments_lexer": "ipython3",
   "version": "3.8.8"
  }
 },
 "nbformat": 4,
 "nbformat_minor": 5
}
